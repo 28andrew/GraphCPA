{
 "cells": [
  {
   "cell_type": "code",
   "execution_count": 5,
   "id": "initial_id",
   "metadata": {
    "collapsed": true,
    "ExecuteTime": {
     "end_time": "2023-12-13T00:39:55.592522Z",
     "start_time": "2023-12-13T00:39:55.427408Z"
    }
   },
   "outputs": [
    {
     "data": {
      "text/plain": "'<html>\\r\\n<head><title>414 Request-URI Too Large</title></head>\\r\\n<body>\\r\\n<center><h1>414 Request-URI Too Large</h1></center>\\r\\n<hr><center>cloudflare</center>\\r\\n</body>\\r\\n</html>\\r\\n'"
     },
     "execution_count": 5,
     "metadata": {},
     "output_type": "execute_result"
    }
   ],
   "source": [
    "import requests\n",
    "\n",
    "# Assuming 'my_genes.txt' contains your list of genes\n",
    "with open('genes.txt', 'r') as f:\n",
    "    genes = [line.strip() for line in f.readlines()]\n",
    "\n",
    "genes_string = '\\r'.join(genes)\n",
    "value = requests.get(f'https://string-db.org/api/tsv/network?identifiers={genes_string}')"
   ]
  },
  {
   "cell_type": "code",
   "execution_count": 14,
   "outputs": [
    {
     "name": "stderr",
     "output_type": "stream",
     "text": [
      "100%|██████████| 18211/18211 [34:29<00:00,  8.80it/s] \n"
     ]
    }
   ],
   "source": [
    "from multiprocessing import Pool\n",
    "from tqdm import tqdm\n",
    "from io import StringIO\n",
    "import pandas as pd\n",
    "import concurrent.futures\n",
    "\n",
    "def get_gene_network(gene):\n",
    "    value = requests.get(f'https://string-db.org/api/tsv/network?identifiers=' + gene)\n",
    "    df = pd.read_csv(StringIO(value.text), delimiter='\\t')\n",
    "    return gene, df\n",
    "\n",
    "# Create a ThreadPoolExecutor\n",
    "with concurrent.futures.ThreadPoolExecutor() as executor:\n",
    "    # Use a list comprehension to collect the results\n",
    "    results = list(tqdm(executor.map(get_gene_network, genes), total=len(genes)))\n",
    "\n",
    "# Convert the results into a dictionary\n",
    "gene_to_df = {gene: df for gene, df in results}"
   ],
   "metadata": {
    "collapsed": false,
    "ExecuteTime": {
     "end_time": "2023-12-13T01:23:07.369682Z",
     "start_time": "2023-12-13T00:48:37.837544Z"
    }
   },
   "id": "922076fcd3157dcb"
  },
  {
   "cell_type": "code",
   "execution_count": 16,
   "outputs": [],
   "source": [
    "import pickle\n",
    "\n",
    "with open('gene_to_df.pkl', 'wb') as f:\n",
    "    pickle.dump(gene_to_df, f)"
   ],
   "metadata": {
    "collapsed": false,
    "ExecuteTime": {
     "end_time": "2023-12-13T01:23:24.703051Z",
     "start_time": "2023-12-13T01:23:23.311192Z"
    }
   },
   "id": "41a79378b50f77d2"
  },
  {
   "cell_type": "code",
   "execution_count": 20,
   "outputs": [],
   "source": [
    "gene_set = set(genes)"
   ],
   "metadata": {
    "collapsed": false,
    "ExecuteTime": {
     "end_time": "2023-12-13T01:24:19.224531Z",
     "start_time": "2023-12-13T01:24:19.219399Z"
    }
   },
   "id": "2dff258702f3bdde"
  },
  {
   "cell_type": "code",
   "execution_count": 22,
   "outputs": [],
   "source": [
    "gene_to_id = {}\n",
    "for i, gene in enumerate(genes):\n",
    "    gene_to_id[gene] = i"
   ],
   "metadata": {
    "collapsed": false,
    "ExecuteTime": {
     "end_time": "2023-12-13T01:24:53.939553Z",
     "start_time": "2023-12-13T01:24:53.938491Z"
    }
   },
   "id": "4972b3c6ba35ff39"
  },
  {
   "cell_type": "code",
   "execution_count": 49,
   "outputs": [
    {
     "name": "stderr",
     "output_type": "stream",
     "text": [
      "100%|██████████| 18211/18211 [00:06<00:00, 2749.61it/s]\n"
     ]
    }
   ],
   "source": [
    "edge_from_list_a = []\n",
    "edge_from_list_b = []\n",
    "for gene_a in tqdm(genes):\n",
    "    df = gene_to_df[gene_a]\n",
    "    if 'Error' in df:\n",
    "        continue\n",
    "    for row in df.itertuples():\n",
    "        row = row._asdict()\n",
    "        gene_b = row['preferredName_B']\n",
    "        if gene_b not in gene_set:\n",
    "            continue\n",
    "        score = row['score']\n",
    "        if score >= 0.1:\n",
    "            # Edge from gene a to gene b\n",
    "            a = gene_to_id[gene_a]\n",
    "            b = gene_to_id[gene_b]\n",
    "            edge_from_list_a.append(a)\n",
    "            edge_from_list_b.append(b)"
   ],
   "metadata": {
    "collapsed": false,
    "ExecuteTime": {
     "end_time": "2023-12-13T04:00:56.442374Z",
     "start_time": "2023-12-13T04:00:49.812736Z"
    }
   },
   "id": "d37ed407fd61e42f"
  },
  {
   "cell_type": "code",
   "execution_count": 50,
   "outputs": [
    {
     "data": {
      "text/plain": "(784134, 784134)"
     },
     "execution_count": 50,
     "metadata": {},
     "output_type": "execute_result"
    }
   ],
   "source": [
    "len(edge_from_list_a), len(edge_from_list_b)"
   ],
   "metadata": {
    "collapsed": false,
    "ExecuteTime": {
     "end_time": "2023-12-13T04:00:57.091753Z",
     "start_time": "2023-12-13T04:00:57.089673Z"
    }
   },
   "id": "23449cbc17d3a4bf"
  },
  {
   "cell_type": "code",
   "execution_count": 51,
   "outputs": [],
   "source": [
    "import torch\n",
    "\n",
    "edge_index = torch.tensor([edge_from_list_a,\n",
    "                           edge_from_list_b], dtype=torch.long)\n",
    "\n",
    "torch.save(edge_index, 'correlation_edge_index.pt')"
   ],
   "metadata": {
    "collapsed": false,
    "ExecuteTime": {
     "end_time": "2023-12-13T04:00:58.127523Z",
     "start_time": "2023-12-13T04:00:58.103562Z"
    }
   },
   "id": "a47b3850367a50ef"
  },
  {
   "cell_type": "code",
   "execution_count": 53,
   "outputs": [
    {
     "name": "stdout",
     "output_type": "stream",
     "text": [
      "Average node degree: 43.0558967590332\n",
      "Amount of nodes with neighbors: 13001\n",
      "Highest degree node: 6 with degree: 110.0\n"
     ]
    },
    {
     "data": {
      "text/plain": "'AAAS'"
     },
     "execution_count": 53,
     "metadata": {},
     "output_type": "execute_result"
    }
   ],
   "source": [
    "from torch_geometric.utils import degree\n",
    "node_degrees = degree(edge_index[0], num_nodes=18212)\n",
    "# Average node degree\n",
    "average_degree = node_degrees.mean().item()\n",
    "print(\"Average node degree:\", average_degree)\n",
    "\n",
    "# Amount of nodes with neighbors\n",
    "# (nodes with degree > 0)\n",
    "nodes_with_neighbors = (node_degrees > 0).sum().item()\n",
    "print(\"Amount of nodes with neighbors:\", nodes_with_neighbors)\n",
    "\n",
    "# Highest degree node\n",
    "highest_degree_node = node_degrees.argmax().item()\n",
    "highest_degree = node_degrees[highest_degree_node].item()\n",
    "print(\"Highest degree node:\", highest_degree_node, \"with degree:\", highest_degree)\n",
    "\n",
    "genes[6]"
   ],
   "metadata": {
    "collapsed": false,
    "ExecuteTime": {
     "end_time": "2023-12-13T04:01:07.067765Z",
     "start_time": "2023-12-13T04:01:07.057910Z"
    }
   },
   "id": "79287b64afce1ea1"
  },
  {
   "cell_type": "code",
   "execution_count": 54,
   "outputs": [
    {
     "data": {
      "text/plain": "784134"
     },
     "execution_count": 54,
     "metadata": {},
     "output_type": "execute_result"
    }
   ],
   "source": [
    "len(edge_index[0])"
   ],
   "metadata": {
    "collapsed": false,
    "ExecuteTime": {
     "end_time": "2023-12-13T04:02:31.071910Z",
     "start_time": "2023-12-13T04:02:31.045689Z"
    }
   },
   "id": "5787d765b6e8505a"
  },
  {
   "cell_type": "code",
   "execution_count": null,
   "outputs": [],
   "source": [],
   "metadata": {
    "collapsed": false
   },
   "id": "cd8e91ebe7a69767"
  }
 ],
 "metadata": {
  "kernelspec": {
   "display_name": "Python 3",
   "language": "python",
   "name": "python3"
  },
  "language_info": {
   "codemirror_mode": {
    "name": "ipython",
    "version": 2
   },
   "file_extension": ".py",
   "mimetype": "text/x-python",
   "name": "python",
   "nbconvert_exporter": "python",
   "pygments_lexer": "ipython2",
   "version": "2.7.6"
  }
 },
 "nbformat": 4,
 "nbformat_minor": 5
}
