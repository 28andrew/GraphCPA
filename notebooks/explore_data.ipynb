{
 "cells": [
  {
   "cell_type": "code",
   "execution_count": 1,
   "id": "initial_id",
   "metadata": {
    "collapsed": true,
    "ExecuteTime": {
     "end_time": "2023-12-12T18:38:55.891973Z",
     "start_time": "2023-12-12T18:38:54.989658Z"
    }
   },
   "outputs": [
    {
     "data": {
      "text/plain": "              cell_type             sm_name sm_lincs_id  \\\n0              NK cells        Clotrimazole    LSM-5341   \n1          T cells CD4+        Clotrimazole    LSM-5341   \n2          T cells CD8+        Clotrimazole    LSM-5341   \n3    T regulatory cells        Clotrimazole    LSM-5341   \n4              NK cells  Mometasone Furoate    LSM-3349   \n..                  ...                 ...         ...   \n609  T regulatory cells        Atorvastatin    LSM-5771   \n610            NK cells           Riociguat   LSM-45758   \n611        T cells CD4+           Riociguat   LSM-45758   \n612        T cells CD8+           Riociguat   LSM-45758   \n613  T regulatory cells           Riociguat   LSM-45758   \n\n                                                SMILES  control      A1BG  \\\n0               Clc1ccccc1C(c1ccccc1)(c1ccccc1)n1ccnc1    False  0.104720   \n1               Clc1ccccc1C(c1ccccc1)(c1ccccc1)n1ccnc1    False  0.915953   \n2               Clc1ccccc1C(c1ccccc1)(c1ccccc1)n1ccnc1    False -0.387721   \n3               Clc1ccccc1C(c1ccccc1)(c1ccccc1)n1ccnc1    False  0.232893   \n4    C[C@@H]1C[C@H]2[C@@H]3CCC4=CC(=O)C=C[C@]4(C)[C...    False  4.290652   \n..                                                 ...      ...       ...   \n609  CC(C)c1c(C(=O)Nc2ccccc2)c(-c2ccccc2)c(-c2ccc(F...    False -0.014372   \n610  COC(=O)N(C)c1c(N)nc(-c2nn(Cc3ccccc3F)c3ncccc23...    False -0.455549   \n611  COC(=O)N(C)c1c(N)nc(-c2nn(Cc3ccccc3F)c3ncccc23...    False  0.338168   \n612  COC(=O)N(C)c1c(N)nc(-c2nn(Cc3ccccc3F)c3ncccc23...    False  0.101138   \n613  COC(=O)N(C)c1c(N)nc(-c2nn(Cc3ccccc3F)c3ncccc23...    False -0.757116   \n\n     A1BG-AS1       A2M   A2M-AS1     A2MP1  ...      ZUP1      ZW10  \\\n0   -0.077524 -1.625596 -0.144545  0.143555  ... -0.227781 -0.010752   \n1   -0.884380  0.371834 -0.081677 -0.498266  ... -0.494985 -0.303419   \n2   -0.305378  0.567777  0.303895 -0.022653  ... -0.119422 -0.033608   \n3    0.129029  0.336897  0.486946  0.767661  ...  0.451679  0.704643   \n4   -0.063864 -0.017443 -0.541154  0.570982  ...  0.758474  0.510762   \n..        ...       ...       ...       ...  ...       ...       ...   \n609 -0.122464 -0.456366 -0.147894 -0.545382  ... -0.549987 -2.200925   \n610  0.188181  0.595734 -0.100299  0.786192  ... -1.236905  0.003854   \n611 -0.109079  0.270182 -0.436586 -0.069476  ...  0.077579 -1.101637   \n612 -0.409724 -0.606292 -0.071300 -0.001789  ...  0.005951 -0.893093   \n613  0.085910 -0.730025 -1.367801 -0.695944  ...  0.232343 -2.247816   \n\n       ZWILCH     ZWINT      ZXDA      ZXDB      ZXDC    ZYG11B       ZYX  \\\n0   -0.023881  0.674536 -0.453068  0.005164 -0.094959  0.034127  0.221377   \n1    0.304955 -0.333905 -0.315516 -0.369626 -0.095079  0.704780  1.096702   \n2   -0.153123  0.183597 -0.555678 -1.494789 -0.213550  0.415768  0.078439   \n3    0.015468 -0.103868  0.865027  0.189114  0.224700 -0.048233  0.216139   \n4    0.607401 -0.123059  0.214366  0.487838 -0.819775  0.112365 -0.122193   \n..        ...       ...       ...       ...       ...       ...       ...   \n609  0.359806  1.073983  0.356939 -0.029603 -0.528817  0.105138  0.491015   \n610 -0.197569 -0.175307  0.101391  1.028394  0.034144 -0.231642  1.023994   \n611  0.457201  0.535184 -0.198404 -0.005004  0.552810 -0.209077  0.389751   \n612 -1.003029 -0.080367 -0.076604  0.024849  0.012862 -0.029684  0.005506   \n613 -0.346036 -0.919567 -1.131372 -0.120252 -0.064537 -0.603280 -0.098041   \n\n        ZZEF1  \n0    0.368755  \n1   -0.869887  \n2   -0.259365  \n3   -0.085024  \n4    0.676629  \n..        ...  \n609 -0.979951  \n610 -0.064760  \n611 -0.337082  \n612 -1.733112  \n613 -0.750681  \n\n[614 rows x 18216 columns]",
      "text/html": "<div>\n<style scoped>\n    .dataframe tbody tr th:only-of-type {\n        vertical-align: middle;\n    }\n\n    .dataframe tbody tr th {\n        vertical-align: top;\n    }\n\n    .dataframe thead th {\n        text-align: right;\n    }\n</style>\n<table border=\"1\" class=\"dataframe\">\n  <thead>\n    <tr style=\"text-align: right;\">\n      <th></th>\n      <th>cell_type</th>\n      <th>sm_name</th>\n      <th>sm_lincs_id</th>\n      <th>SMILES</th>\n      <th>control</th>\n      <th>A1BG</th>\n      <th>A1BG-AS1</th>\n      <th>A2M</th>\n      <th>A2M-AS1</th>\n      <th>A2MP1</th>\n      <th>...</th>\n      <th>ZUP1</th>\n      <th>ZW10</th>\n      <th>ZWILCH</th>\n      <th>ZWINT</th>\n      <th>ZXDA</th>\n      <th>ZXDB</th>\n      <th>ZXDC</th>\n      <th>ZYG11B</th>\n      <th>ZYX</th>\n      <th>ZZEF1</th>\n    </tr>\n  </thead>\n  <tbody>\n    <tr>\n      <th>0</th>\n      <td>NK cells</td>\n      <td>Clotrimazole</td>\n      <td>LSM-5341</td>\n      <td>Clc1ccccc1C(c1ccccc1)(c1ccccc1)n1ccnc1</td>\n      <td>False</td>\n      <td>0.104720</td>\n      <td>-0.077524</td>\n      <td>-1.625596</td>\n      <td>-0.144545</td>\n      <td>0.143555</td>\n      <td>...</td>\n      <td>-0.227781</td>\n      <td>-0.010752</td>\n      <td>-0.023881</td>\n      <td>0.674536</td>\n      <td>-0.453068</td>\n      <td>0.005164</td>\n      <td>-0.094959</td>\n      <td>0.034127</td>\n      <td>0.221377</td>\n      <td>0.368755</td>\n    </tr>\n    <tr>\n      <th>1</th>\n      <td>T cells CD4+</td>\n      <td>Clotrimazole</td>\n      <td>LSM-5341</td>\n      <td>Clc1ccccc1C(c1ccccc1)(c1ccccc1)n1ccnc1</td>\n      <td>False</td>\n      <td>0.915953</td>\n      <td>-0.884380</td>\n      <td>0.371834</td>\n      <td>-0.081677</td>\n      <td>-0.498266</td>\n      <td>...</td>\n      <td>-0.494985</td>\n      <td>-0.303419</td>\n      <td>0.304955</td>\n      <td>-0.333905</td>\n      <td>-0.315516</td>\n      <td>-0.369626</td>\n      <td>-0.095079</td>\n      <td>0.704780</td>\n      <td>1.096702</td>\n      <td>-0.869887</td>\n    </tr>\n    <tr>\n      <th>2</th>\n      <td>T cells CD8+</td>\n      <td>Clotrimazole</td>\n      <td>LSM-5341</td>\n      <td>Clc1ccccc1C(c1ccccc1)(c1ccccc1)n1ccnc1</td>\n      <td>False</td>\n      <td>-0.387721</td>\n      <td>-0.305378</td>\n      <td>0.567777</td>\n      <td>0.303895</td>\n      <td>-0.022653</td>\n      <td>...</td>\n      <td>-0.119422</td>\n      <td>-0.033608</td>\n      <td>-0.153123</td>\n      <td>0.183597</td>\n      <td>-0.555678</td>\n      <td>-1.494789</td>\n      <td>-0.213550</td>\n      <td>0.415768</td>\n      <td>0.078439</td>\n      <td>-0.259365</td>\n    </tr>\n    <tr>\n      <th>3</th>\n      <td>T regulatory cells</td>\n      <td>Clotrimazole</td>\n      <td>LSM-5341</td>\n      <td>Clc1ccccc1C(c1ccccc1)(c1ccccc1)n1ccnc1</td>\n      <td>False</td>\n      <td>0.232893</td>\n      <td>0.129029</td>\n      <td>0.336897</td>\n      <td>0.486946</td>\n      <td>0.767661</td>\n      <td>...</td>\n      <td>0.451679</td>\n      <td>0.704643</td>\n      <td>0.015468</td>\n      <td>-0.103868</td>\n      <td>0.865027</td>\n      <td>0.189114</td>\n      <td>0.224700</td>\n      <td>-0.048233</td>\n      <td>0.216139</td>\n      <td>-0.085024</td>\n    </tr>\n    <tr>\n      <th>4</th>\n      <td>NK cells</td>\n      <td>Mometasone Furoate</td>\n      <td>LSM-3349</td>\n      <td>C[C@@H]1C[C@H]2[C@@H]3CCC4=CC(=O)C=C[C@]4(C)[C...</td>\n      <td>False</td>\n      <td>4.290652</td>\n      <td>-0.063864</td>\n      <td>-0.017443</td>\n      <td>-0.541154</td>\n      <td>0.570982</td>\n      <td>...</td>\n      <td>0.758474</td>\n      <td>0.510762</td>\n      <td>0.607401</td>\n      <td>-0.123059</td>\n      <td>0.214366</td>\n      <td>0.487838</td>\n      <td>-0.819775</td>\n      <td>0.112365</td>\n      <td>-0.122193</td>\n      <td>0.676629</td>\n    </tr>\n    <tr>\n      <th>...</th>\n      <td>...</td>\n      <td>...</td>\n      <td>...</td>\n      <td>...</td>\n      <td>...</td>\n      <td>...</td>\n      <td>...</td>\n      <td>...</td>\n      <td>...</td>\n      <td>...</td>\n      <td>...</td>\n      <td>...</td>\n      <td>...</td>\n      <td>...</td>\n      <td>...</td>\n      <td>...</td>\n      <td>...</td>\n      <td>...</td>\n      <td>...</td>\n      <td>...</td>\n      <td>...</td>\n    </tr>\n    <tr>\n      <th>609</th>\n      <td>T regulatory cells</td>\n      <td>Atorvastatin</td>\n      <td>LSM-5771</td>\n      <td>CC(C)c1c(C(=O)Nc2ccccc2)c(-c2ccccc2)c(-c2ccc(F...</td>\n      <td>False</td>\n      <td>-0.014372</td>\n      <td>-0.122464</td>\n      <td>-0.456366</td>\n      <td>-0.147894</td>\n      <td>-0.545382</td>\n      <td>...</td>\n      <td>-0.549987</td>\n      <td>-2.200925</td>\n      <td>0.359806</td>\n      <td>1.073983</td>\n      <td>0.356939</td>\n      <td>-0.029603</td>\n      <td>-0.528817</td>\n      <td>0.105138</td>\n      <td>0.491015</td>\n      <td>-0.979951</td>\n    </tr>\n    <tr>\n      <th>610</th>\n      <td>NK cells</td>\n      <td>Riociguat</td>\n      <td>LSM-45758</td>\n      <td>COC(=O)N(C)c1c(N)nc(-c2nn(Cc3ccccc3F)c3ncccc23...</td>\n      <td>False</td>\n      <td>-0.455549</td>\n      <td>0.188181</td>\n      <td>0.595734</td>\n      <td>-0.100299</td>\n      <td>0.786192</td>\n      <td>...</td>\n      <td>-1.236905</td>\n      <td>0.003854</td>\n      <td>-0.197569</td>\n      <td>-0.175307</td>\n      <td>0.101391</td>\n      <td>1.028394</td>\n      <td>0.034144</td>\n      <td>-0.231642</td>\n      <td>1.023994</td>\n      <td>-0.064760</td>\n    </tr>\n    <tr>\n      <th>611</th>\n      <td>T cells CD4+</td>\n      <td>Riociguat</td>\n      <td>LSM-45758</td>\n      <td>COC(=O)N(C)c1c(N)nc(-c2nn(Cc3ccccc3F)c3ncccc23...</td>\n      <td>False</td>\n      <td>0.338168</td>\n      <td>-0.109079</td>\n      <td>0.270182</td>\n      <td>-0.436586</td>\n      <td>-0.069476</td>\n      <td>...</td>\n      <td>0.077579</td>\n      <td>-1.101637</td>\n      <td>0.457201</td>\n      <td>0.535184</td>\n      <td>-0.198404</td>\n      <td>-0.005004</td>\n      <td>0.552810</td>\n      <td>-0.209077</td>\n      <td>0.389751</td>\n      <td>-0.337082</td>\n    </tr>\n    <tr>\n      <th>612</th>\n      <td>T cells CD8+</td>\n      <td>Riociguat</td>\n      <td>LSM-45758</td>\n      <td>COC(=O)N(C)c1c(N)nc(-c2nn(Cc3ccccc3F)c3ncccc23...</td>\n      <td>False</td>\n      <td>0.101138</td>\n      <td>-0.409724</td>\n      <td>-0.606292</td>\n      <td>-0.071300</td>\n      <td>-0.001789</td>\n      <td>...</td>\n      <td>0.005951</td>\n      <td>-0.893093</td>\n      <td>-1.003029</td>\n      <td>-0.080367</td>\n      <td>-0.076604</td>\n      <td>0.024849</td>\n      <td>0.012862</td>\n      <td>-0.029684</td>\n      <td>0.005506</td>\n      <td>-1.733112</td>\n    </tr>\n    <tr>\n      <th>613</th>\n      <td>T regulatory cells</td>\n      <td>Riociguat</td>\n      <td>LSM-45758</td>\n      <td>COC(=O)N(C)c1c(N)nc(-c2nn(Cc3ccccc3F)c3ncccc23...</td>\n      <td>False</td>\n      <td>-0.757116</td>\n      <td>0.085910</td>\n      <td>-0.730025</td>\n      <td>-1.367801</td>\n      <td>-0.695944</td>\n      <td>...</td>\n      <td>0.232343</td>\n      <td>-2.247816</td>\n      <td>-0.346036</td>\n      <td>-0.919567</td>\n      <td>-1.131372</td>\n      <td>-0.120252</td>\n      <td>-0.064537</td>\n      <td>-0.603280</td>\n      <td>-0.098041</td>\n      <td>-0.750681</td>\n    </tr>\n  </tbody>\n</table>\n<p>614 rows × 18216 columns</p>\n</div>"
     },
     "execution_count": 1,
     "metadata": {},
     "output_type": "execute_result"
    }
   ],
   "source": [
    "import pandas as pd\n",
    "\n",
    "df = pd.read_parquet('de_train.parquet')\n",
    "df"
   ]
  },
  {
   "cell_type": "code",
   "execution_count": 2,
   "outputs": [
    {
     "data": {
      "text/plain": "['NK cells',\n 'T cells CD4+',\n 'T cells CD8+',\n 'T regulatory cells',\n 'B cells',\n 'Myeloid cells']"
     },
     "execution_count": 2,
     "metadata": {},
     "output_type": "execute_result"
    }
   ],
   "source": [
    "list(df.cell_type.unique())"
   ],
   "metadata": {
    "collapsed": false,
    "ExecuteTime": {
     "end_time": "2023-12-12T18:38:55.895661Z",
     "start_time": "2023-12-12T18:38:55.892632Z"
    }
   },
   "id": "74dacce716a52e45"
  },
  {
   "cell_type": "code",
   "execution_count": 3,
   "outputs": [
    {
     "data": {
      "text/plain": "cell_type                                    NK cells\nsm_name                                  Clotrimazole\nsm_lincs_id                                  LSM-5341\nSMILES         Clc1ccccc1C(c1ccccc1)(c1ccccc1)n1ccnc1\ncontrol                                         False\n                                ...                  \nZXDB                                         0.005164\nZXDC                                        -0.094959\nZYG11B                                       0.034127\nZYX                                          0.221377\nZZEF1                                        0.368755\nName: 0, Length: 18216, dtype: object"
     },
     "execution_count": 3,
     "metadata": {},
     "output_type": "execute_result"
    }
   ],
   "source": [
    "row = df.iloc[0]\n",
    "row"
   ],
   "metadata": {
    "collapsed": false,
    "ExecuteTime": {
     "end_time": "2023-12-12T18:38:55.907498Z",
     "start_time": "2023-12-12T18:38:55.904693Z"
    }
   },
   "id": "7838c56541eda382"
  },
  {
   "cell_type": "code",
   "execution_count": 4,
   "outputs": [
    {
     "data": {
      "text/plain": "              cell_type             sm_name sm_lincs_id  \\\n0              NK cells        Clotrimazole    LSM-5341   \n1          T cells CD4+        Clotrimazole    LSM-5341   \n2          T cells CD8+        Clotrimazole    LSM-5341   \n3    T regulatory cells        Clotrimazole    LSM-5341   \n4              NK cells  Mometasone Furoate    LSM-3349   \n..                  ...                 ...         ...   \n609  T regulatory cells        Atorvastatin    LSM-5771   \n610            NK cells           Riociguat   LSM-45758   \n611        T cells CD4+           Riociguat   LSM-45758   \n612        T cells CD8+           Riociguat   LSM-45758   \n613  T regulatory cells           Riociguat   LSM-45758   \n\n                                                SMILES  control      A1BG  \\\n0               Clc1ccccc1C(c1ccccc1)(c1ccccc1)n1ccnc1    False  0.104720   \n1               Clc1ccccc1C(c1ccccc1)(c1ccccc1)n1ccnc1    False  0.915953   \n2               Clc1ccccc1C(c1ccccc1)(c1ccccc1)n1ccnc1    False -0.387721   \n3               Clc1ccccc1C(c1ccccc1)(c1ccccc1)n1ccnc1    False  0.232893   \n4    C[C@@H]1C[C@H]2[C@@H]3CCC4=CC(=O)C=C[C@]4(C)[C...    False  4.290652   \n..                                                 ...      ...       ...   \n609  CC(C)c1c(C(=O)Nc2ccccc2)c(-c2ccccc2)c(-c2ccc(F...    False -0.014372   \n610  COC(=O)N(C)c1c(N)nc(-c2nn(Cc3ccccc3F)c3ncccc23...    False -0.455549   \n611  COC(=O)N(C)c1c(N)nc(-c2nn(Cc3ccccc3F)c3ncccc23...    False  0.338168   \n612  COC(=O)N(C)c1c(N)nc(-c2nn(Cc3ccccc3F)c3ncccc23...    False  0.101138   \n613  COC(=O)N(C)c1c(N)nc(-c2nn(Cc3ccccc3F)c3ncccc23...    False -0.757116   \n\n     A1BG-AS1       A2M   A2M-AS1     A2MP1  ...      ZUP1      ZW10  \\\n0   -0.077524 -1.625596 -0.144545  0.143555  ... -0.227781 -0.010752   \n1   -0.884380  0.371834 -0.081677 -0.498266  ... -0.494985 -0.303419   \n2   -0.305378  0.567777  0.303895 -0.022653  ... -0.119422 -0.033608   \n3    0.129029  0.336897  0.486946  0.767661  ...  0.451679  0.704643   \n4   -0.063864 -0.017443 -0.541154  0.570982  ...  0.758474  0.510762   \n..        ...       ...       ...       ...  ...       ...       ...   \n609 -0.122464 -0.456366 -0.147894 -0.545382  ... -0.549987 -2.200925   \n610  0.188181  0.595734 -0.100299  0.786192  ... -1.236905  0.003854   \n611 -0.109079  0.270182 -0.436586 -0.069476  ...  0.077579 -1.101637   \n612 -0.409724 -0.606292 -0.071300 -0.001789  ...  0.005951 -0.893093   \n613  0.085910 -0.730025 -1.367801 -0.695944  ...  0.232343 -2.247816   \n\n       ZWILCH     ZWINT      ZXDA      ZXDB      ZXDC    ZYG11B       ZYX  \\\n0   -0.023881  0.674536 -0.453068  0.005164 -0.094959  0.034127  0.221377   \n1    0.304955 -0.333905 -0.315516 -0.369626 -0.095079  0.704780  1.096702   \n2   -0.153123  0.183597 -0.555678 -1.494789 -0.213550  0.415768  0.078439   \n3    0.015468 -0.103868  0.865027  0.189114  0.224700 -0.048233  0.216139   \n4    0.607401 -0.123059  0.214366  0.487838 -0.819775  0.112365 -0.122193   \n..        ...       ...       ...       ...       ...       ...       ...   \n609  0.359806  1.073983  0.356939 -0.029603 -0.528817  0.105138  0.491015   \n610 -0.197569 -0.175307  0.101391  1.028394  0.034144 -0.231642  1.023994   \n611  0.457201  0.535184 -0.198404 -0.005004  0.552810 -0.209077  0.389751   \n612 -1.003029 -0.080367 -0.076604  0.024849  0.012862 -0.029684  0.005506   \n613 -0.346036 -0.919567 -1.131372 -0.120252 -0.064537 -0.603280 -0.098041   \n\n        ZZEF1  \n0    0.368755  \n1   -0.869887  \n2   -0.259365  \n3   -0.085024  \n4    0.676629  \n..        ...  \n609 -0.979951  \n610 -0.064760  \n611 -0.337082  \n612 -1.733112  \n613 -0.750681  \n\n[602 rows x 18216 columns]",
      "text/html": "<div>\n<style scoped>\n    .dataframe tbody tr th:only-of-type {\n        vertical-align: middle;\n    }\n\n    .dataframe tbody tr th {\n        vertical-align: top;\n    }\n\n    .dataframe thead th {\n        text-align: right;\n    }\n</style>\n<table border=\"1\" class=\"dataframe\">\n  <thead>\n    <tr style=\"text-align: right;\">\n      <th></th>\n      <th>cell_type</th>\n      <th>sm_name</th>\n      <th>sm_lincs_id</th>\n      <th>SMILES</th>\n      <th>control</th>\n      <th>A1BG</th>\n      <th>A1BG-AS1</th>\n      <th>A2M</th>\n      <th>A2M-AS1</th>\n      <th>A2MP1</th>\n      <th>...</th>\n      <th>ZUP1</th>\n      <th>ZW10</th>\n      <th>ZWILCH</th>\n      <th>ZWINT</th>\n      <th>ZXDA</th>\n      <th>ZXDB</th>\n      <th>ZXDC</th>\n      <th>ZYG11B</th>\n      <th>ZYX</th>\n      <th>ZZEF1</th>\n    </tr>\n  </thead>\n  <tbody>\n    <tr>\n      <th>0</th>\n      <td>NK cells</td>\n      <td>Clotrimazole</td>\n      <td>LSM-5341</td>\n      <td>Clc1ccccc1C(c1ccccc1)(c1ccccc1)n1ccnc1</td>\n      <td>False</td>\n      <td>0.104720</td>\n      <td>-0.077524</td>\n      <td>-1.625596</td>\n      <td>-0.144545</td>\n      <td>0.143555</td>\n      <td>...</td>\n      <td>-0.227781</td>\n      <td>-0.010752</td>\n      <td>-0.023881</td>\n      <td>0.674536</td>\n      <td>-0.453068</td>\n      <td>0.005164</td>\n      <td>-0.094959</td>\n      <td>0.034127</td>\n      <td>0.221377</td>\n      <td>0.368755</td>\n    </tr>\n    <tr>\n      <th>1</th>\n      <td>T cells CD4+</td>\n      <td>Clotrimazole</td>\n      <td>LSM-5341</td>\n      <td>Clc1ccccc1C(c1ccccc1)(c1ccccc1)n1ccnc1</td>\n      <td>False</td>\n      <td>0.915953</td>\n      <td>-0.884380</td>\n      <td>0.371834</td>\n      <td>-0.081677</td>\n      <td>-0.498266</td>\n      <td>...</td>\n      <td>-0.494985</td>\n      <td>-0.303419</td>\n      <td>0.304955</td>\n      <td>-0.333905</td>\n      <td>-0.315516</td>\n      <td>-0.369626</td>\n      <td>-0.095079</td>\n      <td>0.704780</td>\n      <td>1.096702</td>\n      <td>-0.869887</td>\n    </tr>\n    <tr>\n      <th>2</th>\n      <td>T cells CD8+</td>\n      <td>Clotrimazole</td>\n      <td>LSM-5341</td>\n      <td>Clc1ccccc1C(c1ccccc1)(c1ccccc1)n1ccnc1</td>\n      <td>False</td>\n      <td>-0.387721</td>\n      <td>-0.305378</td>\n      <td>0.567777</td>\n      <td>0.303895</td>\n      <td>-0.022653</td>\n      <td>...</td>\n      <td>-0.119422</td>\n      <td>-0.033608</td>\n      <td>-0.153123</td>\n      <td>0.183597</td>\n      <td>-0.555678</td>\n      <td>-1.494789</td>\n      <td>-0.213550</td>\n      <td>0.415768</td>\n      <td>0.078439</td>\n      <td>-0.259365</td>\n    </tr>\n    <tr>\n      <th>3</th>\n      <td>T regulatory cells</td>\n      <td>Clotrimazole</td>\n      <td>LSM-5341</td>\n      <td>Clc1ccccc1C(c1ccccc1)(c1ccccc1)n1ccnc1</td>\n      <td>False</td>\n      <td>0.232893</td>\n      <td>0.129029</td>\n      <td>0.336897</td>\n      <td>0.486946</td>\n      <td>0.767661</td>\n      <td>...</td>\n      <td>0.451679</td>\n      <td>0.704643</td>\n      <td>0.015468</td>\n      <td>-0.103868</td>\n      <td>0.865027</td>\n      <td>0.189114</td>\n      <td>0.224700</td>\n      <td>-0.048233</td>\n      <td>0.216139</td>\n      <td>-0.085024</td>\n    </tr>\n    <tr>\n      <th>4</th>\n      <td>NK cells</td>\n      <td>Mometasone Furoate</td>\n      <td>LSM-3349</td>\n      <td>C[C@@H]1C[C@H]2[C@@H]3CCC4=CC(=O)C=C[C@]4(C)[C...</td>\n      <td>False</td>\n      <td>4.290652</td>\n      <td>-0.063864</td>\n      <td>-0.017443</td>\n      <td>-0.541154</td>\n      <td>0.570982</td>\n      <td>...</td>\n      <td>0.758474</td>\n      <td>0.510762</td>\n      <td>0.607401</td>\n      <td>-0.123059</td>\n      <td>0.214366</td>\n      <td>0.487838</td>\n      <td>-0.819775</td>\n      <td>0.112365</td>\n      <td>-0.122193</td>\n      <td>0.676629</td>\n    </tr>\n    <tr>\n      <th>...</th>\n      <td>...</td>\n      <td>...</td>\n      <td>...</td>\n      <td>...</td>\n      <td>...</td>\n      <td>...</td>\n      <td>...</td>\n      <td>...</td>\n      <td>...</td>\n      <td>...</td>\n      <td>...</td>\n      <td>...</td>\n      <td>...</td>\n      <td>...</td>\n      <td>...</td>\n      <td>...</td>\n      <td>...</td>\n      <td>...</td>\n      <td>...</td>\n      <td>...</td>\n      <td>...</td>\n    </tr>\n    <tr>\n      <th>609</th>\n      <td>T regulatory cells</td>\n      <td>Atorvastatin</td>\n      <td>LSM-5771</td>\n      <td>CC(C)c1c(C(=O)Nc2ccccc2)c(-c2ccccc2)c(-c2ccc(F...</td>\n      <td>False</td>\n      <td>-0.014372</td>\n      <td>-0.122464</td>\n      <td>-0.456366</td>\n      <td>-0.147894</td>\n      <td>-0.545382</td>\n      <td>...</td>\n      <td>-0.549987</td>\n      <td>-2.200925</td>\n      <td>0.359806</td>\n      <td>1.073983</td>\n      <td>0.356939</td>\n      <td>-0.029603</td>\n      <td>-0.528817</td>\n      <td>0.105138</td>\n      <td>0.491015</td>\n      <td>-0.979951</td>\n    </tr>\n    <tr>\n      <th>610</th>\n      <td>NK cells</td>\n      <td>Riociguat</td>\n      <td>LSM-45758</td>\n      <td>COC(=O)N(C)c1c(N)nc(-c2nn(Cc3ccccc3F)c3ncccc23...</td>\n      <td>False</td>\n      <td>-0.455549</td>\n      <td>0.188181</td>\n      <td>0.595734</td>\n      <td>-0.100299</td>\n      <td>0.786192</td>\n      <td>...</td>\n      <td>-1.236905</td>\n      <td>0.003854</td>\n      <td>-0.197569</td>\n      <td>-0.175307</td>\n      <td>0.101391</td>\n      <td>1.028394</td>\n      <td>0.034144</td>\n      <td>-0.231642</td>\n      <td>1.023994</td>\n      <td>-0.064760</td>\n    </tr>\n    <tr>\n      <th>611</th>\n      <td>T cells CD4+</td>\n      <td>Riociguat</td>\n      <td>LSM-45758</td>\n      <td>COC(=O)N(C)c1c(N)nc(-c2nn(Cc3ccccc3F)c3ncccc23...</td>\n      <td>False</td>\n      <td>0.338168</td>\n      <td>-0.109079</td>\n      <td>0.270182</td>\n      <td>-0.436586</td>\n      <td>-0.069476</td>\n      <td>...</td>\n      <td>0.077579</td>\n      <td>-1.101637</td>\n      <td>0.457201</td>\n      <td>0.535184</td>\n      <td>-0.198404</td>\n      <td>-0.005004</td>\n      <td>0.552810</td>\n      <td>-0.209077</td>\n      <td>0.389751</td>\n      <td>-0.337082</td>\n    </tr>\n    <tr>\n      <th>612</th>\n      <td>T cells CD8+</td>\n      <td>Riociguat</td>\n      <td>LSM-45758</td>\n      <td>COC(=O)N(C)c1c(N)nc(-c2nn(Cc3ccccc3F)c3ncccc23...</td>\n      <td>False</td>\n      <td>0.101138</td>\n      <td>-0.409724</td>\n      <td>-0.606292</td>\n      <td>-0.071300</td>\n      <td>-0.001789</td>\n      <td>...</td>\n      <td>0.005951</td>\n      <td>-0.893093</td>\n      <td>-1.003029</td>\n      <td>-0.080367</td>\n      <td>-0.076604</td>\n      <td>0.024849</td>\n      <td>0.012862</td>\n      <td>-0.029684</td>\n      <td>0.005506</td>\n      <td>-1.733112</td>\n    </tr>\n    <tr>\n      <th>613</th>\n      <td>T regulatory cells</td>\n      <td>Riociguat</td>\n      <td>LSM-45758</td>\n      <td>COC(=O)N(C)c1c(N)nc(-c2nn(Cc3ccccc3F)c3ncccc23...</td>\n      <td>False</td>\n      <td>-0.757116</td>\n      <td>0.085910</td>\n      <td>-0.730025</td>\n      <td>-1.367801</td>\n      <td>-0.695944</td>\n      <td>...</td>\n      <td>0.232343</td>\n      <td>-2.247816</td>\n      <td>-0.346036</td>\n      <td>-0.919567</td>\n      <td>-1.131372</td>\n      <td>-0.120252</td>\n      <td>-0.064537</td>\n      <td>-0.603280</td>\n      <td>-0.098041</td>\n      <td>-0.750681</td>\n    </tr>\n  </tbody>\n</table>\n<p>602 rows × 18216 columns</p>\n</div>"
     },
     "execution_count": 4,
     "metadata": {},
     "output_type": "execute_result"
    }
   ],
   "source": [
    "df[df['control'] == False]"
   ],
   "metadata": {
    "collapsed": false,
    "ExecuteTime": {
     "end_time": "2023-12-12T18:38:55.963007Z",
     "start_time": "2023-12-12T18:38:55.925376Z"
    }
   },
   "id": "a05a1f1d37af7174"
  },
  {
   "cell_type": "code",
   "execution_count": 13,
   "outputs": [],
   "source": [
    "import torch\n",
    "import numpy as np\n",
    "\n",
    "control_index = row.index.get_loc('control')\n",
    "expression_row = row.iloc[control_index + 1:]\n",
    "expression_tensor = torch.tensor(expression_row.values.astype(np.float64), dtype=torch.float32)"
   ],
   "metadata": {
    "collapsed": false,
    "ExecuteTime": {
     "end_time": "2023-12-12T18:39:34.984571Z",
     "start_time": "2023-12-12T18:39:34.981848Z"
    }
   },
   "id": "1ed6aed039092798"
  },
  {
   "cell_type": "code",
   "execution_count": 48,
   "outputs": [],
   "source": [
    "genes = list(expression_row.index)\n",
    "with open('genes.txt', 'w') as f:\n",
    "    for gene in genes:\n",
    "        f.write(\"%s\\n\" % gene)"
   ],
   "metadata": {
    "collapsed": false,
    "ExecuteTime": {
     "end_time": "2023-12-13T00:35:05.168943Z",
     "start_time": "2023-12-13T00:35:05.164523Z"
    }
   },
   "id": "590d72a41695175c"
  },
  {
   "cell_type": "code",
   "execution_count": 49,
   "outputs": [],
   "source": [
    "from chemCPA import GeneDataset\n",
    "\n",
    "dataset = GeneDataset(df)"
   ],
   "metadata": {
    "collapsed": false,
    "ExecuteTime": {
     "end_time": "2023-12-13T00:35:06.317267Z",
     "start_time": "2023-12-13T00:35:06.023183Z"
    }
   },
   "id": "cf5b157802c4820c"
  },
  {
   "cell_type": "code",
   "execution_count": 50,
   "outputs": [
    {
     "data": {
      "text/plain": "{'cell_type': 'NK cells',\n 'sm_name': 'Clotrimazole',\n 'sm_lincs_id': 'LSM-5341',\n 'SMILES': 'Clc1ccccc1C(c1ccccc1)(c1ccccc1)n1ccnc1',\n 'expression': tensor([ 0.1047, -0.0775, -1.6256,  ...,  0.0341,  0.2214,  0.3688])}"
     },
     "execution_count": 50,
     "metadata": {},
     "output_type": "execute_result"
    }
   ],
   "source": [
    "dataset[0]"
   ],
   "metadata": {
    "collapsed": false,
    "ExecuteTime": {
     "end_time": "2023-12-13T00:35:07.487033Z",
     "start_time": "2023-12-13T00:35:07.479765Z"
    }
   },
   "id": "37e40a25e3843017"
  },
  {
   "cell_type": "code",
   "execution_count": 51,
   "outputs": [
    {
     "data": {
      "text/plain": "{'cell_type': 'T cells CD4+',\n 'sm_name': 'Clotrimazole',\n 'sm_lincs_id': 'LSM-5341',\n 'SMILES': 'Clc1ccccc1C(c1ccccc1)(c1ccccc1)n1ccnc1',\n 'expression': tensor([ 0.9160, -0.8844,  0.3718,  ...,  0.7048,  1.0967, -0.8699])}"
     },
     "execution_count": 51,
     "metadata": {},
     "output_type": "execute_result"
    }
   ],
   "source": [
    "dataset[1]"
   ],
   "metadata": {
    "collapsed": false,
    "ExecuteTime": {
     "end_time": "2023-12-13T00:35:07.667777Z",
     "start_time": "2023-12-13T00:35:07.665354Z"
    }
   },
   "id": "9f9512ea2cb4508e"
  },
  {
   "cell_type": "code",
   "execution_count": 38,
   "outputs": [],
   "source": [
    "from descriptastorus.descriptors import MakeGenerator\n",
    "from rdkit import Chem\n",
    "\n",
    "\n",
    "def smiles_to_fingerprint(smiles):\n",
    "    # Initialize generator\n",
    "    generator = MakeGenerator([\"RDKit2D\"])\n",
    "    descriptor = generator.process(smiles)\n",
    "    \n",
    "    # Extract the numerical part of the descriptor (omitting the first boolean value)\n",
    "    fingerprint = descriptor[1:]\n",
    "    \n",
    "    # Convert the list to a numpy array\n",
    "    fingerprint_np = np.array(fingerprint)\n",
    "    \n",
    "    # Convert the numpy array to a tensor\n",
    "    fingerprint_tensor = torch.from_numpy(fingerprint_np)\n",
    "    \n",
    "    return fingerprint_tensor"
   ],
   "metadata": {
    "collapsed": false,
    "ExecuteTime": {
     "end_time": "2023-12-12T19:15:07.441324Z",
     "start_time": "2023-12-12T19:15:07.439584Z"
    }
   },
   "id": "15cace569da9fa7f"
  },
  {
   "cell_type": "code",
   "execution_count": 40,
   "outputs": [],
   "source": [
    "finger = smiles_to_fingerprint('CCCCCCC')"
   ],
   "metadata": {
    "collapsed": false,
    "ExecuteTime": {
     "end_time": "2023-12-12T19:15:14.254498Z",
     "start_time": "2023-12-12T19:15:14.250001Z"
    }
   },
   "id": "a7fd1ece7e28fe0b"
  },
  {
   "cell_type": "code",
   "execution_count": 44,
   "outputs": [
    {
     "data": {
      "text/plain": "tensor([ 2.4475e+00,  1.9219e+01,  5.5355e+00,  5.5355e+00,  5.5355e+00,\n         3.4142e+00,  3.4142e+00,  3.4142e+00,  2.0607e+00,  2.0607e+00,\n         1.2071e+00,  1.2071e+00,  6.7678e-01,  6.7678e-01,  0.0000e+00,\n         0.0000e+00,  0.0000e+00,  0.0000e+00,  0.0000e+00,  0.0000e+00,\n         3.2104e+01,  0.0000e+00,  0.0000e+00,  1.3847e+01,  0.0000e+00,\n         1.0013e+02,  7.1429e-01,  1.1429e+00,  1.4286e+00,  1.0000e+00,\n         0.0000e+00,  7.0000e+00,  8.4077e+01,  3.5510e+01,  7.0000e+00,\n         6.0000e+00,  6.0000e+00,  4.6929e+01,  2.2457e+00,  6.5382e-02,\n         2.2457e+00, -5.3326e-02,  1.3611e+00,  5.3326e-02,  1.3611e+00,\n        -6.5382e-02,  2.9767e+00,  3.4433e+01,  1.0020e+02,  0.0000e+00,\n         0.0000e+00,  0.0000e+00,  0.0000e+00,  0.0000e+00,  0.0000e+00,\n         0.0000e+00,  0.0000e+00,  0.0000e+00,  0.0000e+00,  0.0000e+00,\n         0.0000e+00,  4.0000e+00,  0.0000e+00,  0.0000e+00,  0.0000e+00,\n         4.4000e+01,  0.0000e+00,  0.0000e+00,  0.0000e+00,  0.0000e+00,\n         0.0000e+00,  0.0000e+00,  0.0000e+00,  0.0000e+00,  0.0000e+00,\n         0.0000e+00,  4.5952e+01,  0.0000e+00,  0.0000e+00,  0.0000e+00,\n         0.0000e+00,  0.0000e+00,  0.0000e+00,  0.0000e+00,  0.0000e+00,\n         0.0000e+00,  4.5952e+01,  0.0000e+00,  0.0000e+00,  0.0000e+00,\n         0.0000e+00,  0.0000e+00,  0.0000e+00,  0.0000e+00,  0.0000e+00,\n         0.0000e+00,  0.0000e+00,  0.0000e+00,  4.5952e+01,  0.0000e+00,\n         0.0000e+00,  0.0000e+00,  0.0000e+00,  0.0000e+00,  0.0000e+00,\n         0.0000e+00,  0.0000e+00,  0.0000e+00,  0.0000e+00,  0.0000e+00,\n         0.0000e+00,  7.0086e+00,  4.4914e+00,  0.0000e+00,  0.0000e+00,\n         0.0000e+00,  0.0000e+00,  0.0000e+00,  0.0000e+00,  0.0000e+00,\n         0.0000e+00,  0.0000e+00,  0.0000e+00,  0.0000e+00,  0.0000e+00,\n         0.0000e+00,  0.0000e+00,  0.0000e+00,  0.0000e+00,  0.0000e+00,\n         0.0000e+00,  0.0000e+00,  0.0000e+00,  0.0000e+00,  0.0000e+00,\n         0.0000e+00,  0.0000e+00,  0.0000e+00,  0.0000e+00,  0.0000e+00,\n         0.0000e+00,  0.0000e+00,  0.0000e+00,  0.0000e+00,  0.0000e+00,\n         0.0000e+00,  0.0000e+00,  0.0000e+00,  0.0000e+00,  0.0000e+00,\n         0.0000e+00,  0.0000e+00,  0.0000e+00,  0.0000e+00,  0.0000e+00,\n         0.0000e+00,  0.0000e+00,  0.0000e+00,  0.0000e+00,  0.0000e+00,\n         0.0000e+00,  0.0000e+00,  0.0000e+00,  0.0000e+00,  0.0000e+00,\n         0.0000e+00,  0.0000e+00,  0.0000e+00,  0.0000e+00,  0.0000e+00,\n         0.0000e+00,  0.0000e+00,  0.0000e+00,  0.0000e+00,  0.0000e+00,\n         0.0000e+00,  0.0000e+00,  0.0000e+00,  0.0000e+00,  0.0000e+00,\n         0.0000e+00,  0.0000e+00,  0.0000e+00,  0.0000e+00,  0.0000e+00,\n         0.0000e+00,  0.0000e+00,  0.0000e+00,  0.0000e+00,  0.0000e+00,\n         0.0000e+00,  0.0000e+00,  0.0000e+00,  0.0000e+00,  0.0000e+00,\n         0.0000e+00,  0.0000e+00,  2.0000e+00,  0.0000e+00,  4.7631e-01],\n       dtype=torch.float64)"
     },
     "execution_count": 44,
     "metadata": {},
     "output_type": "execute_result"
    }
   ],
   "source": [
    "finger"
   ],
   "metadata": {
    "collapsed": false,
    "ExecuteTime": {
     "end_time": "2023-12-12T19:30:41.770127Z",
     "start_time": "2023-12-12T19:30:41.763866Z"
    }
   },
   "id": "ee12adf6d6c3872"
  },
  {
   "cell_type": "code",
   "execution_count": null,
   "outputs": [],
   "source": [],
   "metadata": {
    "collapsed": false
   },
   "id": "f48f4bbefdef7c12"
  }
 ],
 "metadata": {
  "kernelspec": {
   "display_name": "Python 3",
   "language": "python",
   "name": "python3"
  },
  "language_info": {
   "codemirror_mode": {
    "name": "ipython",
    "version": 2
   },
   "file_extension": ".py",
   "mimetype": "text/x-python",
   "name": "python",
   "nbconvert_exporter": "python",
   "pygments_lexer": "ipython2",
   "version": "2.7.6"
  }
 },
 "nbformat": 4,
 "nbformat_minor": 5
}
