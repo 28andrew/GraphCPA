{
 "cells": [
  {
   "cell_type": "code",
   "execution_count": 2,
   "id": "initial_id",
   "metadata": {
    "collapsed": true,
    "ExecuteTime": {
     "end_time": "2023-12-13T02:36:20.336296Z",
     "start_time": "2023-12-13T02:36:19.798082Z"
    }
   },
   "outputs": [],
   "source": [
    "import pandas as pd\n",
    "\n",
    "df = pd.read_csv('id_map.csv')"
   ]
  },
  {
   "cell_type": "code",
   "execution_count": 3,
   "outputs": [
    {
     "data": {
      "text/plain": "      id      cell_type                                            sm_name\n0      0        B cells  5-(9-Isopropyl-8-methyl-2-morpholino-9H-purin-...\n1      1        B cells                                 ABT-199 (GDC-0199)\n2      2        B cells                                             ABT737\n3      3        B cells                            AMD-070 (hydrochloride)\n4      4        B cells                                            AT 7867\n..   ...            ...                                                ...\n250  250  Myeloid cells                                         Vandetanib\n251  251  Myeloid cells                                         Vanoxerine\n252  252  Myeloid cells                                         Vardenafil\n253  253  Myeloid cells                                         Vorinostat\n254  254  Myeloid cells                                           YK 4-279\n\n[255 rows x 3 columns]",
      "text/html": "<div>\n<style scoped>\n    .dataframe tbody tr th:only-of-type {\n        vertical-align: middle;\n    }\n\n    .dataframe tbody tr th {\n        vertical-align: top;\n    }\n\n    .dataframe thead th {\n        text-align: right;\n    }\n</style>\n<table border=\"1\" class=\"dataframe\">\n  <thead>\n    <tr style=\"text-align: right;\">\n      <th></th>\n      <th>id</th>\n      <th>cell_type</th>\n      <th>sm_name</th>\n    </tr>\n  </thead>\n  <tbody>\n    <tr>\n      <th>0</th>\n      <td>0</td>\n      <td>B cells</td>\n      <td>5-(9-Isopropyl-8-methyl-2-morpholino-9H-purin-...</td>\n    </tr>\n    <tr>\n      <th>1</th>\n      <td>1</td>\n      <td>B cells</td>\n      <td>ABT-199 (GDC-0199)</td>\n    </tr>\n    <tr>\n      <th>2</th>\n      <td>2</td>\n      <td>B cells</td>\n      <td>ABT737</td>\n    </tr>\n    <tr>\n      <th>3</th>\n      <td>3</td>\n      <td>B cells</td>\n      <td>AMD-070 (hydrochloride)</td>\n    </tr>\n    <tr>\n      <th>4</th>\n      <td>4</td>\n      <td>B cells</td>\n      <td>AT 7867</td>\n    </tr>\n    <tr>\n      <th>...</th>\n      <td>...</td>\n      <td>...</td>\n      <td>...</td>\n    </tr>\n    <tr>\n      <th>250</th>\n      <td>250</td>\n      <td>Myeloid cells</td>\n      <td>Vandetanib</td>\n    </tr>\n    <tr>\n      <th>251</th>\n      <td>251</td>\n      <td>Myeloid cells</td>\n      <td>Vanoxerine</td>\n    </tr>\n    <tr>\n      <th>252</th>\n      <td>252</td>\n      <td>Myeloid cells</td>\n      <td>Vardenafil</td>\n    </tr>\n    <tr>\n      <th>253</th>\n      <td>253</td>\n      <td>Myeloid cells</td>\n      <td>Vorinostat</td>\n    </tr>\n    <tr>\n      <th>254</th>\n      <td>254</td>\n      <td>Myeloid cells</td>\n      <td>YK 4-279</td>\n    </tr>\n  </tbody>\n</table>\n<p>255 rows × 3 columns</p>\n</div>"
     },
     "execution_count": 3,
     "metadata": {},
     "output_type": "execute_result"
    }
   ],
   "source": [
    "df"
   ],
   "metadata": {
    "collapsed": false,
    "ExecuteTime": {
     "end_time": "2023-12-13T02:36:21.096860Z",
     "start_time": "2023-12-13T02:36:21.092727Z"
    }
   },
   "id": "e5ddb745044cfe8f"
  },
  {
   "cell_type": "code",
   "execution_count": 14,
   "outputs": [],
   "source": [
    "de_train = pd.read_parquet('de_train.parquet')"
   ],
   "metadata": {
    "collapsed": false,
    "ExecuteTime": {
     "end_time": "2023-12-13T02:38:08.256633Z",
     "start_time": "2023-12-13T02:38:07.408041Z"
    }
   },
   "id": "a46ce696c5a72d9c"
  },
  {
   "cell_type": "markdown",
   "source": [],
   "metadata": {
    "collapsed": false
   },
   "id": "b4225a1e232f1753"
  },
  {
   "cell_type": "code",
   "execution_count": 25,
   "outputs": [
    {
     "data": {
      "text/plain": "'CN(C)CC[C@H](CSc1ccccc1)Nc1ccc(S(=O)(=O)NC(=O)c2ccc(N3CCN(Cc4ccccc4-c4ccc(Cl)cc4)CC3)cc2)cc1[N+](=O)[O-]'"
     },
     "execution_count": 25,
     "metadata": {},
     "output_type": "execute_result"
    }
   ],
   "source": [
    "list(de_train[de_train['sm_name'] == 'ABT737']['SMILES'])[0]"
   ],
   "metadata": {
    "collapsed": false,
    "ExecuteTime": {
     "end_time": "2023-12-13T02:38:48.006854Z",
     "start_time": "2023-12-13T02:38:47.985027Z"
    }
   },
   "id": "865252c945118d72"
  },
  {
   "cell_type": "code",
   "execution_count": null,
   "outputs": [],
   "source": [],
   "metadata": {
    "collapsed": false
   },
   "id": "2ae94b26f6a82c32"
  }
 ],
 "metadata": {
  "kernelspec": {
   "display_name": "Python 3",
   "language": "python",
   "name": "python3"
  },
  "language_info": {
   "codemirror_mode": {
    "name": "ipython",
    "version": 2
   },
   "file_extension": ".py",
   "mimetype": "text/x-python",
   "name": "python",
   "nbconvert_exporter": "python",
   "pygments_lexer": "ipython2",
   "version": "2.7.6"
  }
 },
 "nbformat": 4,
 "nbformat_minor": 5
}
