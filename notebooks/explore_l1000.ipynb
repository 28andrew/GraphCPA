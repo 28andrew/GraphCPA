{
 "cells": [
  {
   "cell_type": "code",
   "execution_count": 5,
   "id": "initial_id",
   "metadata": {
    "collapsed": true,
    "ExecuteTime": {
     "end_time": "2023-12-12T23:30:39.411306Z",
     "start_time": "2023-12-12T23:30:39.400590Z"
    }
   },
   "outputs": [],
   "source": [
    "import pandas as pd"
   ]
  },
  {
   "cell_type": "code",
   "execution_count": 6,
   "outputs": [
    {
     "ename": "ValueError",
     "evalue": "Dataset(s) incompatible with Pandas data types, not table, or no datasets found in HDF5 file.",
     "output_type": "error",
     "traceback": [
      "\u001B[0;31m---------------------------------------------------------------------------\u001B[0m",
      "\u001B[0;31mValueError\u001B[0m                                Traceback (most recent call last)",
      "Cell \u001B[0;32mIn[6], line 1\u001B[0m\n\u001B[0;32m----> 1\u001B[0m df \u001B[38;5;241m=\u001B[39m \u001B[43mpd\u001B[49m\u001B[38;5;241;43m.\u001B[39;49m\u001B[43mread_hdf\u001B[49m\u001B[43m(\u001B[49m\u001B[38;5;124;43m'\u001B[39;49m\u001B[38;5;124;43mlincs_full.h5ad\u001B[39;49m\u001B[38;5;124;43m'\u001B[39;49m\u001B[43m)\u001B[49m\n\u001B[1;32m      2\u001B[0m df\n",
      "File \u001B[0;32m/opt/homebrew/anaconda3/envs/483FinalProject/lib/python3.11/site-packages/pandas/io/pytables.py:434\u001B[0m, in \u001B[0;36mread_hdf\u001B[0;34m(path_or_buf, key, mode, errors, where, start, stop, columns, iterator, chunksize, **kwargs)\u001B[0m\n\u001B[1;32m    432\u001B[0m groups \u001B[38;5;241m=\u001B[39m store\u001B[38;5;241m.\u001B[39mgroups()\n\u001B[1;32m    433\u001B[0m \u001B[38;5;28;01mif\u001B[39;00m \u001B[38;5;28mlen\u001B[39m(groups) \u001B[38;5;241m==\u001B[39m \u001B[38;5;241m0\u001B[39m:\n\u001B[0;32m--> 434\u001B[0m     \u001B[38;5;28;01mraise\u001B[39;00m \u001B[38;5;167;01mValueError\u001B[39;00m(\n\u001B[1;32m    435\u001B[0m         \u001B[38;5;124m\"\u001B[39m\u001B[38;5;124mDataset(s) incompatible with Pandas data types, \u001B[39m\u001B[38;5;124m\"\u001B[39m\n\u001B[1;32m    436\u001B[0m         \u001B[38;5;124m\"\u001B[39m\u001B[38;5;124mnot table, or no datasets found in HDF5 file.\u001B[39m\u001B[38;5;124m\"\u001B[39m\n\u001B[1;32m    437\u001B[0m     )\n\u001B[1;32m    438\u001B[0m candidate_only_group \u001B[38;5;241m=\u001B[39m groups[\u001B[38;5;241m0\u001B[39m]\n\u001B[1;32m    440\u001B[0m \u001B[38;5;66;03m# For the HDF file to have only one dataset, all other groups\u001B[39;00m\n\u001B[1;32m    441\u001B[0m \u001B[38;5;66;03m# should then be metadata groups for that candidate group. (This\u001B[39;00m\n\u001B[1;32m    442\u001B[0m \u001B[38;5;66;03m# assumes that the groups() method enumerates parent groups\u001B[39;00m\n\u001B[1;32m    443\u001B[0m \u001B[38;5;66;03m# before their children.)\u001B[39;00m\n",
      "\u001B[0;31mValueError\u001B[0m: Dataset(s) incompatible with Pandas data types, not table, or no datasets found in HDF5 file."
     ]
    }
   ],
   "source": [
    "df = pd.read_hdf('lincs_full.h5ad')\n",
    "df"
   ],
   "metadata": {
    "collapsed": false,
    "ExecuteTime": {
     "end_time": "2023-12-12T23:30:39.967432Z",
     "start_time": "2023-12-12T23:30:39.950627Z"
    }
   },
   "id": "e41a385fd1e95ca0"
  },
  {
   "cell_type": "code",
   "execution_count": null,
   "outputs": [],
   "source": [],
   "metadata": {
    "collapsed": false
   },
   "id": "7911b5f393b87710"
  }
 ],
 "metadata": {
  "kernelspec": {
   "display_name": "Python 3",
   "language": "python",
   "name": "python3"
  },
  "language_info": {
   "codemirror_mode": {
    "name": "ipython",
    "version": 2
   },
   "file_extension": ".py",
   "mimetype": "text/x-python",
   "name": "python",
   "nbconvert_exporter": "python",
   "pygments_lexer": "ipython2",
   "version": "2.7.6"
  }
 },
 "nbformat": 4,
 "nbformat_minor": 5
}
